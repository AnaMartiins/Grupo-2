{
 "cells": [
  {
   "cell_type": "code",
   "execution_count": null,
   "metadata": {
    "colab": {
     "base_uri": "https://localhost:8080/"
    },
    "id": "45qSfQWTXx6_",
    "outputId": "70bd385a-22ff-4cab-d1ba-849e2c263264"
   },
   "outputs": [
    {
     "name": "stdout",
     "output_type": "stream",
     "text": [
      "Arquivo PDF 'analise_exploratoria_hsb2f.pdf' criado com sucesso.\n"
     ]
    }
   ],
   "source": [
    "import pandas as pd\n",
    "import matplotlib.pyplot as plt\n",
    "import seaborn as sns\n",
    "from matplotlib.backends.backend_pdf import PdfPages\n",
    "\n",
    "file_path = 'data/hsb2f.csv'\n",
    "data = pd.read_csv(file_path, delimiter=';')\n",
    "\n",
    "def autopct_format(values):\n",
    "    def my_format(pct):\n",
    "        total = sum(values)\n",
    "        val = int(round(pct * total / 100.0))\n",
    "        return f'{pct:.1f}% ({val})'\n",
    "    return my_format\n",
    "\n",
    "def plot_categorical(data, column, title, pdf):\n",
    "    plt.figure(figsize=(8, 6))\n",
    "    values = data[column].value_counts()\n",
    "    values.plot(kind='pie', autopct=autopct_format(values), startangle=90, colors=sns.color_palette(\"pastel\"))\n",
    "    plt.title(title)\n",
    "    plt.ylabel('')\n",
    "    pdf.savefig()\n",
    "    plt.close()\n",
    "\n",
    "def plot_numerical(data, column, title, pdf):\n",
    "    plt.figure(figsize=(8, 6))\n",
    "    sns.histplot(data[column], kde=True, color='skyblue', bins=10)\n",
    "    plt.title(title)\n",
    "    plt.xlabel(f'Notas ({column.capitalize()})')\n",
    "    plt.ylabel('Número de Alunos')\n",
    "    pdf.savefig()\n",
    "    plt.close()\n",
    "\n",
    "sns.set(style=\"whitegrid\")\n",
    "output_pdf = \"reports/analise_exploratoria_hsb2f.pdf\"\n",
    "\n",
    "with PdfPages(output_pdf) as pdf:\n",
    "    plot_categorical(data, 'genero', 'Distribuição de Gênero', pdf)\n",
    "    plot_categorical(data, 'raca', 'Distribuição de Raça', pdf)\n",
    "    plot_categorical(data, 'clasocial', 'Distribuição de Classe Social', pdf)\n",
    "    plot_categorical(data, 'tipescola', 'Distribuição do Tipo de Escola', pdf)\n",
    "    plot_categorical(data, 'programa', 'Distribuição de Programa', pdf)\n",
    "\n",
    "    plot_numerical(data, 'ler', 'Distribuição das Notas em Leitura', pdf)\n",
    "    plot_numerical(data, 'escrever', 'Distribuição das Notas em Escrita', pdf)\n",
    "    plot_numerical(data, 'matematica', 'Distribuição das Notas em Matemática', pdf)\n",
    "    plot_numerical(data, 'ciencias', 'Distribuição das Notas em Ciências', pdf)\n",
    "    plot_numerical(data, 'estsociais', 'Distribuição das Notas em Estudos Sociais', pdf)\n",
    "\n",
    "print(f\"Arquivo PDF '{output_pdf}' criado com sucesso.\")\n"
   ]
  }
 ],
 "metadata": {
  "colab": {
   "provenance": []
  },
  "kernelspec": {
   "display_name": "Python 3",
   "name": "python3"
  },
  "language_info": {
   "name": "python"
  }
 },
 "nbformat": 4,
 "nbformat_minor": 0
}
